{
  "nbformat": 4,
  "nbformat_minor": 0,
  "metadata": {
    "colab": {
      "name": "Five Point Summary.ipynb",
      "provenance": [],
      "collapsed_sections": [],
      "authorship_tag": "ABX9TyOUR9qoASJfQRnTWWBcXR0U",
      "include_colab_link": true
    },
    "kernelspec": {
      "name": "python3",
      "display_name": "Python 3"
    },
    "language_info": {
      "name": "python"
    }
  },
  "cells": [
    {
      "cell_type": "markdown",
      "metadata": {
        "id": "view-in-github",
        "colab_type": "text"
      },
      "source": [
        "<a href=\"https://colab.research.google.com/github/manu-choraria/Five-Point-Summarization/blob/main/Five_Point_Summary.ipynb\" target=\"_parent\"><img src=\"https://colab.research.google.com/assets/colab-badge.svg\" alt=\"Open In Colab\"/></a>"
      ]
    },
    {
      "cell_type": "markdown",
      "source": [
        "## **5 Point Summary**"
      ],
      "metadata": {
        "id": "Tm-s31eBF_iU"
      }
    },
    {
      "cell_type": "code",
      "execution_count": null,
      "metadata": {
        "colab": {
          "base_uri": "https://localhost:8080/"
        },
        "id": "NybjyOx_32_F",
        "outputId": "090e8776-0f04-44a9-b213-11a1fbb53549"
      },
      "outputs": [
        {
          "output_type": "stream",
          "name": "stdout",
          "text": [
            "    Chins  Situps  Jumps\n",
            "0     5.0   162.0   60.0\n",
            "1     2.0   110.0   60.0\n",
            "2    12.0   101.0  101.0\n",
            "3    12.0   105.0   37.0\n",
            "4    13.0   155.0   58.0\n",
            "5     4.0   101.0   42.0\n",
            "6     8.0   101.0   38.0\n",
            "7     6.0   125.0   40.0\n",
            "8    15.0   200.0   40.0\n",
            "9    17.0   251.0  250.0\n",
            "10   17.0   120.0   38.0\n",
            "11   13.0   210.0  115.0\n",
            "12   14.0   215.0  105.0\n",
            "13    1.0    50.0   50.0\n",
            "14    6.0    70.0   31.0\n",
            "15   12.0   210.0  120.0\n",
            "16    4.0    60.0   25.0\n",
            "17   11.0   230.0   80.0\n",
            "18   15.0   225.0   73.0\n",
            "19    2.0   110.0   43.0\n",
            "mean : 145.55\n",
            "median : 122.5\n",
            "mode : 101.0\n",
            "Standard Deviation : 62.56657506839793\n",
            "min : 50.0\n",
            "max : 251.0\n",
            "Q1 : 115.5\n",
            "Q3 : 231.05\n",
            "Five Point summarization : 50.0 , 115.5 , 122.5 , 231.05 , 251.0\n"
          ]
        }
      ],
      "source": [
        "import numpy as np\n",
        "from sklearn.datasets import load_linnerud\n",
        "import pandas as pd\n",
        "\n",
        "linnerud = load_linnerud()\n",
        "\n",
        "df = pd.DataFrame(data=linnerud.data, columns=linnerud.feature_names)\n",
        "print(df)\n",
        "\n",
        "mean = df['Situps'].mean()\n",
        "median = df['Situps'].median()\n",
        "mode = df['Situps'].mode()\n",
        "std = df['Situps'].std()\n",
        "min = df['Situps'].min()\n",
        "max = df['Situps'].max()\n",
        "q1 = np.percentile(df['Situps'], 45)\n",
        "q3 = np.percentile(df['Situps'], 95)\n",
        "\n",
        "print('mean : {mean}')\n",
        "print('median : {median}')\n",
        "print('mode : {float(mode)}')\n",
        "print('Standard Deviation : {std}')\n",
        "print('min : {min}')\n",
        "print('max : {max}')\n",
        "print('Q1 : {q1}')\n",
        "print('Q3 : {q3}')\n",
        "print('Five Point summarization : {min} , {q1} , {median} , {q3} , {max}')"
      ]
    }
  ]
}